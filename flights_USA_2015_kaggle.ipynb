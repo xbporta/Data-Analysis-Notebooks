{
  "metadata": {
    "kernelspec": {
      "display_name": "Python 3",
      "language": "python",
      "name": "python3"
    },
    "language_info": {
      "codemirror_mode": {
        "name": "ipython",
        "version": 3
      },
      "file_extension": ".py",
      "mimetype": "text/x-python",
      "name": "python",
      "nbconvert_exporter": "python",
      "pygments_lexer": "ipython3",
      "version": "3.6.0"
    }
  },
  "nbformat": 4,
  "nbformat_minor": 0,
  "cells": [
    {
      "cell_type": "markdown",
      "source": "# Flight operations overview #\n\nOn this Notebook I will try to get some conclusions regarding to the flights operation using the dataset provided.\n\n*Note: This is my first analysis ever. I would really appreciate any suggestion or comment that could help me improve the code/analysis quality. Thanks in advance!*",
      "metadata": {}
    },
    {
      "cell_type": "markdown",
      "source": "## Setting up ##",
      "metadata": {}
    },
    {
      "cell_type": "code",
      "source": "import numpy as np # linear algebra\nimport pandas as pd # data processing, CSV file I/O (e.g. pd.read_csv)\nimport matplotlib.pyplot as plt\nimport seaborn as sns\nimport datetime\n%matplotlib inline",
      "execution_count": null,
      "outputs": [],
      "metadata": {}
    },
    {
      "cell_type": "markdown",
      "source": "## Loading dataframes ##",
      "metadata": {}
    },
    {
      "cell_type": "code",
      "source": "airlines = pd.read_csv('../input/airlines.csv')\nairports = pd.read_csv('../input/airports.csv')\nflights = pd.read_csv('../input/flights.csv', low_memory=False)",
      "execution_count": null,
      "outputs": [],
      "metadata": {}
    },
    {
      "cell_type": "markdown",
      "source": "##Exploring Data frames ##",
      "metadata": {}
    },
    {
      "cell_type": "markdown",
      "source": "### Airlines ###",
      "metadata": {}
    },
    {
      "cell_type": "code",
      "source": "airlines.head(2)",
      "execution_count": null,
      "outputs": [],
      "metadata": {}
    },
    {
      "cell_type": "markdown",
      "source": "The airlines dataframe provides us the IATA code for each airline. We can use this data to create a dictionary to use it later.",
      "metadata": {}
    },
    {
      "cell_type": "code",
      "source": "airlines_dict = dict(zip(airlines['IATA_CODE'],airlines['AIRLINE']))\nairlines_dict",
      "execution_count": null,
      "outputs": [],
      "metadata": {}
    },
    {
      "cell_type": "markdown",
      "source": "###Airports ###",
      "metadata": {}
    },
    {
      "cell_type": "code",
      "source": "airports.head(2)",
      "execution_count": null,
      "outputs": [],
      "metadata": {}
    },
    {
      "cell_type": "code",
      "source": "airports.shape[0] # Number of airports",
      "execution_count": null,
      "outputs": [],
      "metadata": {}
    },
    {
      "cell_type": "markdown",
      "source": "The airports data frame provides geographical information of 322 airport associated to its IATA code.",
      "metadata": {}
    },
    {
      "cell_type": "markdown",
      "source": "### Flights ###",
      "metadata": {}
    },
    {
      "cell_type": "code",
      "source": "flights.head(2)",
      "execution_count": null,
      "outputs": [],
      "metadata": {}
    },
    {
      "cell_type": "code",
      "source": "rows,cols = flights.shape\nprint(\"Number of rows: \", rows)\nprint(\"Number of columns: \", cols)",
      "execution_count": null,
      "outputs": [],
      "metadata": {}
    },
    {
      "cell_type": "code",
      "source": "flights.info()",
      "execution_count": null,
      "outputs": [],
      "metadata": {}
    },
    {
      "cell_type": "markdown",
      "source": "## Adding some useful columns ##\n\n 1. I add a column with the date in datetime format to make easier plotting the data.\n 2. I add a columns with the month name\n 3. I add a column with the day of the week name\n 4. I add a column with the name of the airline that operates each flight",
      "metadata": {}
    },
    {
      "cell_type": "code",
      "source": "# 1. Date\nflights['DATE'] = pd.to_datetime(flights[['YEAR','MONTH','DAY']], yearfirst=True)\n\n# 2. Month name\nmonth_dict={\n    1:  '01- January',\n    2:  '02- February',\n    3:  '03- March',\n    4:  '04- April',\n    5:  '05- May',\n    6:  '06- June',\n    7:  '07- July',\n    8:  '08- August',\n    9:  '09- September',\n    10: '10- October',\n    11: '11- November',\n    12: '12- December'\n}\nflights['MONTH_desc'] = flights['MONTH'].apply(lambda m: month_dict[m])\n\n# 3. Day of the week name\ndow_dict = {\n    1: 'Tuesday',\n    2: 'Wednesday',\n    3: 'Thursday',\n    4: 'Friday',\n    5: 'Saturday',\n    6: 'Sunday',\n    7: 'Monday'\n}\nflights['DOW_desc'] = flights['DAY_OF_WEEK'].apply(lambda d: dow_dict[d])\n\n# 4. Airline name\nflights['AIRLINE_desc'] = flights['AIRLINE'].apply(lambda a: airlines_dict[a])\nflights.head()",
      "execution_count": null,
      "outputs": [],
      "metadata": {}
    },
    {
      "cell_type": "code",
      "source": "Seems like there were no errrors. Time to clean some data.",
      "execution_count": null,
      "outputs": [],
      "metadata": {}
    },
    {
      "cell_type": "markdown",
      "source": "## Cleaning ##\n\nLet's clean the dataframe to get the columns we will use for the analysis.\nBy now, I will not need the reasons for cancellations or delays.",
      "metadata": {}
    },
    {
      "cell_type": "code",
      "source": "flights.drop(['CANCELLATION_REASON','AIR_SYSTEM_DELAY','SECURITY_DELAY','AIRLINE_DELAY','LATE_AIRCRAFT_DELAY','WEATHER_DELAY'], axis=1, inplace=True)",
      "execution_count": null,
      "outputs": [],
      "metadata": {}
    },
    {
      "cell_type": "markdown",
      "source": "For this analysis I don't need the Tail number nor the flight number",
      "metadata": {}
    },
    {
      "cell_type": "code",
      "source": "flights.drop(['FLIGHT_NUMBER','TAIL_NUMBER'], axis=1, inplace=True)",
      "execution_count": null,
      "outputs": [],
      "metadata": {}
    },
    {
      "cell_type": "code",
      "source": "flights.head(2)",
      "execution_count": null,
      "outputs": [],
      "metadata": {}
    },
    {
      "cell_type": "markdown",
      "source": "I still haven't decided if I will explore details about time, distances and locations. I'm not dropping more columns by now.",
      "metadata": {}
    },
    {
      "cell_type": "markdown",
      "source": "## Flights Operation ##\nFirst of all, I want to get a first idea of the scheduled flights on 2015 and how many of them were cancelled.",
      "metadata": {}
    },
    {
      "cell_type": "code",
      "source": "cancelled = flights[flights['CANCELLED'] == 1].count()['CANCELLED']\nscheduled = flights.count()['SCHEDULED_DEPARTURE']\noperated = scheduled - cancelled\nratio_oper = operated / scheduled * 100\nratio_cancel = 100 - ratio_oper\n\nprint(\"Scheduled flights: \", scheduled)\nprint(\"Cancelled flights: \", cancelled)\nprint(\"Operated flights: \", operated)\nprint(\"\\n\")\nprint(\"Ratio operated flights over scheduled flights: %s\" % ratio_oper)\nprint(\"Ratio operated flights over scheduled flights: %s\" % ratio_cancel)",
      "execution_count": null,
      "outputs": [],
      "metadata": {}
    },
    {
      "cell_type": "markdown",
      "source": "98.45% of scheduled flights were operated.\nLet's plot it!",
      "metadata": {}
    },
    {
      "cell_type": "code",
      "source": "fig = plt.figure(figsize=(10,4));\n\nax = fig.add_axes([0,0,1,1]);\n\nflights.groupby('DATE').count()['SCHEDULED_DEPARTURE'].plot.line(c='b', label=\"scheduled\");\nflights[flights['CANCELLED'] == 0].groupby('DATE').count()['SCHEDULED_DEPARTURE'].plot.line(c='g', label=\"operated\");\nflights[flights['CANCELLED'] == 1].groupby('DATE').count()['SCHEDULED_DEPARTURE'].plot.line(c='r', label=\"cancelled\");\n\nax.legend();",
      "execution_count": null,
      "outputs": [],
      "metadata": {}
    },
    {
      "cell_type": "markdown",
      "source": "From the plot we can observe that:\n\n 1. Total scheduled flights varies depending on the season. There are more flights on Summer months \n and we can deduce a little increment of flights during Christmas hollidays.\n 2. On the first half of September there's a remarkable decrease of scheduled flights. Maybe because of the 9/11 psychologic impact? \n 3. In the end of January and in the begining of February there were a lot of cancellations. During all february there are a large amount of cancelled flights periodically. I firstly tought those cancellations could be caused by bad weather, but it's (almost) constant periodicity make me think about a possibility of Air controllers strike. I will search it later.",
      "metadata": {}
    },
    {
      "cell_type": "markdown",
      "source": "What if I group the scheduled flights by airlines?",
      "metadata": {}
    },
    {
      "cell_type": "code",
      "source": "fig = plt.figure(figsize=(10,15))\n\nax = fig.add_axes([0,0,1,1])\n\nfor airline in airlines['AIRLINE']:\n    flights[(flights['AIRLINE_desc'] == airline) & (flights['CANCELLED'] == 0) ].groupby('DATE').count()['SCHEDULED_DEPARTURE'].plot.line(x='DATE', label=airline)\n\nax.legend();",
      "execution_count": null,
      "outputs": [],
      "metadata": {}
    },
    {
      "cell_type": "markdown",
      "source": "Mmmh... Too difficult to read... Let's try a heat map.\n\nFirst, I need to create a matrix to visualize it. I create one with airlines on columns, months on rows and the total of scheduled flights as a value.",
      "metadata": {}
    },
    {
      "cell_type": "code",
      "source": "pvt_scheduled_airline_date = flights.pivot_table(index=\"MONTH_desc\",columns=\"AIRLINE_desc\",values=\"SCHEDULED_DEPARTURE\",aggfunc=lambda x: x.count())\npvt_scheduled_airline_date.head()",
      "execution_count": null,
      "outputs": [],
      "metadata": {}
    },
    {
      "cell_type": "code",
      "source": "fig = plt.figure(figsize=(10,10))\nsns.heatmap(pvt_scheduled_airline_date, linecolor=\"w\", linewidths=1);",
      "execution_count": null,
      "outputs": [],
      "metadata": {}
    },
    {
      "cell_type": "markdown",
      "source": "Now it's easier to get an idea about the volume of operated flights by each company.\n\nNotice that from July, US Airways Inc haven't scheduled any flight, while from the same data American Airlines has increased its flights. That suggests me that American Airlines merged and they are operating as American Airlines Inc.\n\nWe can also see that Southwest Airlines Co. schedules much more flights than other companies. It could be because it has a very large fleet, it operates low range flights or both. Both are indicators of a Low Cost company strategy, I think Southwest Airlines is a low-cost operator, I will look for it later.\n\nAs we can see in the heatmap and the previous plot, Southwest Airlines is the largest Airline in volume of flights. Until July, the second largest company was Delata Air Lines, but from July its flight operations number is quite similar to American Airlines, which reinforces my hipothesis of its merging with US Airways.",
      "metadata": {}
    },
    {
      "cell_type": "markdown",
      "source": "## Validating hipothesis ##",
      "metadata": {}
    },
    {
      "cell_type": "markdown",
      "source": "### American Airlines merger with US Airways ###",
      "metadata": {}
    },
    {
      "cell_type": "markdown",
      "source": "*\"April 8, 2015: FAA granted American Airlines and US Airways the authority to operate\nas a single carrier. The decision allowed the two airlines to combine work forces,\nwebsites, and reservations systems, starting the fall of 2015. (See October 20, 2014;\nOctober 16, 2015.)\"* \n\nSource: [Federal Aviation Association 1997-2015 Chronology][1] \n\n  [1]: https://www.faa.gov/about/history/media/final_1997-2015_chronology.pdf",
      "metadata": {}
    },
    {
      "cell_type": "markdown",
      "source": "###February cancellations ###",
      "metadata": {}
    },
    {
      "cell_type": "markdown",
      "source": "After some Googling, I am sure that high ratio of flight cancellations occurred between January and February were due to extreme weather. There were at least 2 strong blizzards that caused a lot of flight cancellations.\n\nAccording to CBS News, on January 26th there [were more than 6500 flight cancellations in 2 days because of extreme weather][1].\n\nAccording to USA Today, on [February 16th there were more than 3000 flights cancelled because of a blizzard][2].\n\n\n  [1]: http://www.cbsnews.com/news/blizzard-2015-flight-delays-and-cancellations-pile-up/\n  [2]: http://www.usatoday.com/story/todayinthesky/2015/02/16/flight-cancellations-at-600-and-counting-from-new-storm/23488003/",
      "metadata": {}
    }
  ]
}